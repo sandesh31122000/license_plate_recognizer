{
 "cells": [
  {
   "cell_type": "code",
   "execution_count": 1,
   "id": "40b29370",
   "metadata": {},
   "outputs": [],
   "source": [
    "import pandas as pd\n",
    "import numpy as np\n",
    "import cv2\n",
    "import random\n",
    "from matplotlib import pyplot as plt\n",
    "import tensorflow as tf\n",
    "from tensorflow.keras.models import Sequential\n",
    "from tensorflow.keras.layers import Conv2D,Activation,Flatten,Dense,MaxPooling2D,Dropout\n",
    "from tensorflow.keras.layers import LeakyReLU"
   ]
  },
  {
   "cell_type": "code",
   "execution_count": 2,
   "id": "1c5911b1",
   "metadata": {},
   "outputs": [
    {
     "name": "stdout",
     "output_type": "stream",
     "text": [
      "{0: '0', 1: '1', 2: '2', 3: '3', 4: '4', 5: '5', 6: '6', 7: '7', 8: '8', 9: '9', 10: 'A', 11: 'B', 12: 'C', 13: 'D', 14: 'E', 15: 'F', 16: 'G', 17: 'H', 18: 'I', 19: 'J', 20: 'K', 21: 'L', 22: 'M', 23: 'N', 24: 'O', 25: 'P', 26: 'Q', 27: 'R', 28: 'S', 29: 'T', 30: 'U', 31: 'V', 32: 'W', 33: 'X', 34: 'Y', 35: 'Z'}\n"
     ]
    }
   ],
   "source": [
    "df=pd.read_csv(\"new_alpha.csv\")\n",
    "categorie=df.to_dict()\n",
    "categories=categorie[\"class\"]\n",
    "print(categories)"
   ]
  },
  {
   "cell_type": "code",
   "execution_count": 3,
   "id": "c7368cd1",
   "metadata": {},
   "outputs": [
    {
     "data": {
      "image/png": "[encoded data removed]",
      "text/plain": [
       "<Figure size 432x288 with 1 Axes>"
      ]
     },
     "metadata": {
      "needs_background": "light"
     },
     "output_type": "display_data"
    }
   ],
   "source": [
    "img=cv2.imread(\"/home/crowwar/Desktop/Fnt/Sample001/img001-00008.png\")\n",
    "img=cv2.cvtColor(img,cv2.COLOR_BGR2GRAY)\n",
    "img=cv2.resize(img,(40,40))\n",
    "plt.imshow(img,cmap=\"gray\")\n",
    "plt.show()"
   ]
  },
  {
   "cell_type": "code",
   "execution_count": 4,
   "id": "8542e460",
   "metadata": {},
   "outputs": [],
   "source": [
    "dataset=[]\n",
    "for x in range(1,37):\n",
    "    for y in range(1,301):\n",
    "        if(y<10 and x<10):\n",
    "            path=\"/home/crowwar/Desktop/Fnt/Sample00\"+str(x)+\"/\"+\"img00\"+str(x)+\"-0000\"+str(y)+\".png\"\n",
    "            \n",
    "        elif(10<=y<100 and x<10):\n",
    "            path=\"/home/crowwar/Desktop/Fnt/Sample00\"+str(x)+\"/\"+\"img00\"+str(x)+\"-000\"+str(y)+\".png\"\n",
    "            \n",
    "        elif(y>=100 and x<10):\n",
    "            path=\"/home/crowwar/Desktop/Fnt/Sample00\"+str(x)+\"/\"+\"img00\"+str(x)+\"-00\"+str(y)+\".png\"\n",
    "            \n",
    "        elif(y<10 and x>=10):\n",
    "            path=\"/home/crowwar/Desktop/Fnt/Sample0\"+str(x)+\"/\"+\"img0\"+str(x)+\"-0000\"+str(y)+\".png\"\n",
    "            \n",
    "        elif(10<=y<100 and x>=10):\n",
    "            path=\"/home/crowwar/Desktop/Fnt/Sample0\"+str(x)+\"/\"+\"img0\"+str(x)+\"-000\"+str(y)+\".png\"\n",
    "            \n",
    "        elif(y>=100 and x>=10):\n",
    "            path=\"/home/crowwar/Desktop/Fnt/Sample0\"+str(x)+\"/\"+\"img0\"+str(x)+\"-00\"+str(y)+\".png\" \n",
    "        img=cv2.imread(path) \n",
    "        img = cv2.cvtColor(img, cv2.COLOR_BGR2GRAY)\n",
    "        img=cv2.resize(img,(40,40))\n",
    "        dataset.append([img,x-1])\n",
    "            \n",
    "        "
   ]
  },
  {
   "cell_type": "code",
   "execution_count": 5,
   "id": "270025ef",
   "metadata": {},
   "outputs": [],
   "source": [
    "import random\n",
    "random.shuffle(dataset)\n",
    "x_train=[]\n",
    "y_train=[]\n",
    "x_test=[]\n",
    "y_test=[]\n",
    "for x,y in dataset[:-720]:\n",
    "    x_train.append(x)\n",
    "    y_train.append(y)\n",
    "for x,y in dataset[6480:]:\n",
    "    x_test.append(x)\n",
    "    y_test.append(y)\n",
    "x_train=np.array(x_train).reshape(-1,40,40,1)/255.\n",
    "x_test=np.array(x_test).reshape(-1,40,40,1)/255.\n",
    "y_train=np.array(y_train)\n",
    "y_test=np.array(y_test)\n"
   ]
  },
  {
   "cell_type": "code",
   "execution_count": 6,
   "id": "f721ecfa",
   "metadata": {},
   "outputs": [
    {
     "name": "stdout",
     "output_type": "stream",
     "text": [
      "Epoch 1/3\n",
      "101/101 [==============================] - 239s 2s/step - loss: 2.0599 - accuracy: 0.4566\n",
      "Epoch 2/3\n",
      "101/101 [==============================] - 243s 2s/step - loss: 0.2782 - accuracy: 0.9262\n",
      "Epoch 3/3\n",
      "101/101 [==============================] - 237s 2s/step - loss: 0.1518 - accuracy: 0.9567\n"
     ]
    },
    {
     "data": {
      "text/plain": [
       "<tensorflow.python.keras.callbacks.History at 0x7fe98781ca60>"
      ]
     },
     "execution_count": 6,
     "metadata": {},
     "output_type": "execute_result"
    }
   ],
   "source": [
    "model=Sequential()\n",
    "model.add(Conv2D(80,(5,5),input_shape=(40,40,1),padding=\"SAME\"))\n",
    "model.add(MaxPooling2D((2,2),strides=1,padding=\"SAME\"))\n",
    "model.add(Activation(\"relu\"))\n",
    "model.add(Conv2D(40,(5,5),padding=\"SAME\"))\n",
    "model.add(MaxPooling2D((2,2),strides=1,padding=\"SAME\"))\n",
    "model.add(Conv2D(30,(3,3)))\n",
    "model.add(MaxPooling2D((2,2),strides=1))\n",
    "model.add(Activation(\"relu\"))\n",
    "model.add(Conv2D(10,(2,2)))\n",
    "model.add(MaxPooling2D((2,2),strides=1))\n",
    "model.add(Flatten())\n",
    "model.add(Activation(\"relu\"))\n",
    "model.add(Dense(100))\n",
    "model.add(Activation(\"relu\"))\n",
    "model.add(Dense(36))\n",
    "model.add(Activation(\"softmax\"))\n",
    "model.compile(optimizer=\"adam\",loss=\"SparseCategoricalCrossentropy\",metrics=[\"accuracy\"])\n",
    "model.fit(x_train,y_train,batch_size=100,epochs=3)"
   ]
  },
  {
   "cell_type": "code",
   "execution_count": 7,
   "id": "7f6427c1",
   "metadata": {},
   "outputs": [
    {
     "name": "stdout",
     "output_type": "stream",
     "text": [
      "135/135 [==============================] - 21s 152ms/step - loss: 0.1146 - accuracy: 0.9694\n"
     ]
    },
    {
     "data": {
      "text/plain": [
       "[0.11456659436225891, 0.9694444537162781]"
      ]
     },
     "execution_count": 7,
     "metadata": {},
     "output_type": "execute_result"
    }
   ],
   "source": [
    "model.evaluate(x_test,y_test)"
   ]
  },
  {
   "cell_type": "code",
   "execution_count": 8,
   "id": "13c1cb5b",
   "metadata": {},
   "outputs": [],
   "source": [
    "model.save(\"alpha_model2.h5\")"
   ]
  },
  {
   "cell_type": "code",
   "execution_count": null,
   "id": "bb510682",
   "metadata": {},
   "outputs": [],
   "source": []
  }
 ],
 "metadata": {
  "kernelspec": {
   "display_name": "Python 3",
   "language": "python",
   "name": "python3"
  },
  "language_info": {
   "codemirror_mode": {
    "name": "ipython",
    "version": 3
   },
   "file_extension": ".py",
   "mimetype": "text/x-python",
   "name": "python",
   "nbconvert_exporter": "python",
   "pygments_lexer": "ipython3",
   "version": "3.8.5"
  }
 },
 "nbformat": 4,
 "nbformat_minor": 5
}
