{
 "cells": [
  {
   "cell_type": "code",
   "execution_count": 1,
   "id": "3c8f017e",
   "metadata": {},
   "outputs": [],
   "source": [
    "from matplotlib import pyplot as plt\n",
    "import numpy as np\n",
    "import cv2\n",
    "from tensorflow import keras\n",
    "import tensorflow as tf"
   ]
  },
  {
   "cell_type": "code",
   "execution_count": 2,
   "id": "20dc1967",
   "metadata": {},
   "outputs": [],
   "source": [
    "rectKern = cv2.getStructuringElement(cv2.MORPH_RECT, (13, 5))\n",
    "squareKern = cv2.getStructuringElement(cv2.MORPH_RECT, (6, 6))\n",
    "kernal=np.ones((4,4),np.uint8)"
   ]
  },
  {
   "cell_type": "code",
   "execution_count": 3,
   "id": "ee41c730",
   "metadata": {},
   "outputs": [],
   "source": [
    "def structured_image(img):\n",
    "    gray=cv2.cvtColor(img,cv2.COLOR_BGR2GRAY)\n",
    "    blackhat = cv2.morphologyEx(gray, cv2.MORPH_BLACKHAT, rectKern)\n",
    "    light = cv2.morphologyEx(gray, cv2.MORPH_CLOSE, squareKern)\n",
    "    light = cv2.threshold(light, 0, 255,cv2.THRESH_BINARY | cv2.THRESH_OTSU)[1]\n",
    "    return light,blackhat"
   ]
  },
  {
   "cell_type": "code",
   "execution_count": 4,
   "id": "668c7a90",
   "metadata": {},
   "outputs": [],
   "source": [
    "def detecting_edges(blackhat):\n",
    "    gradX = cv2.Sobel(blackhat, ddepth=cv2.CV_32F,dx=1, dy=0, ksize=-1)\n",
    "    gradX = np.absolute(gradX)\n",
    "    (minVal, maxVal) = (np.min(gradX), np.max(gradX))\n",
    "    gradX = 255 * ((gradX - minVal) / (maxVal - minVal))\n",
    "    gradX = gradX.astype(\"uint8\")\n",
    "    return gradX"
   ]
  },
  {
   "cell_type": "code",
   "execution_count": 5,
   "id": "2848c194",
   "metadata": {},
   "outputs": [],
   "source": [
    "def bitwise_operation(gradX):\n",
    "    gradX = cv2.GaussianBlur(gradX, (5, 5), 0)\n",
    "    gradX = cv2.morphologyEx(gradX, cv2.MORPH_CLOSE, rectKern)\n",
    "    thresh = cv2.threshold(gradX, 0, 255,cv2.THRESH_BINARY | cv2.THRESH_OTSU)[1]\n",
    "    thresh = cv2.erode(thresh, None, iterations=2)\n",
    "    thresh = cv2.dilate(thresh, None, iterations=4)\n",
    "    thresh = cv2.bitwise_and(thresh, thresh, mask=light)\n",
    "    thresh= cv2.morphologyEx(thresh, cv2.MORPH_OPEN,rectKern,iterations=2)\n",
    "    thresh=cv2.dilate(thresh,rectKern,iterations=2)\n",
    "    return thresh"
   ]
  },
  {
   "cell_type": "code",
   "execution_count": 6,
   "id": "31505294",
   "metadata": {},
   "outputs": [],
   "source": [
    "def plate_detection(thresh,img):\n",
    "    lpCnt = None\n",
    "    roi = None \n",
    "    licensePlate=None\n",
    "    gray=cv2.cvtColor(img,cv2.COLOR_BGR2GRAY)\n",
    "    def value(z):\n",
    "        x,y,w,h=cv2.boundingRect(z)\n",
    "        return w*h\n",
    "    contours, hier = cv2.findContours(thresh, cv2.RETR_EXTERNAL, cv2.CHAIN_APPROX_SIMPLE)\n",
    "    sorted_contours=sorted(contours,key=value,reverse=True)\n",
    "    for c in sorted_contours:\n",
    "        (x, y, w, h) = cv2.boundingRect(c)\n",
    "        ar = w / float(h)\n",
    "        if ar >1 and ar <= 6:\n",
    "\n",
    "            lpCnt = c\n",
    "            licensePlate = gray[y:y + h, x:x + w]\n",
    "            roi = cv2.threshold(licensePlate, 0, 255,cv2.THRESH_BINARY_INV | cv2.THRESH_OTSU)[1]\n",
    "            break\n",
    "    return licensePlate,roi"
   ]
  },
  {
   "cell_type": "code",
   "execution_count": 7,
   "id": "aa325d76",
   "metadata": {},
   "outputs": [],
   "source": [
    "def char_contours_detection(licensePlate,roi):\n",
    "    data=[]\n",
    "    def value(z):\n",
    "        x,y,w,h=cv2.boundingRect(z)\n",
    "        return w*h\n",
    "    contours, hier = cv2.findContours(roi, cv2.RETR_EXTERNAL, cv2.CHAIN_APPROX_SIMPLE)\n",
    "    sorted_contours=sorted(contours,key=value,reverse=True)\n",
    "    licensePlate=cv2.cvtColor(licensePlate,cv2.COLOR_BGR2RGB)\n",
    "    for x in sorted_contours:\n",
    "        x,y,w,h=cv2.boundingRect(x)\n",
    "        if(1<=h//w<=4 and h!=licensePlate.shape[0] and w!=licensePlate.shape[1] and h>=licensePlate.shape[0]//3 and w<licensePlate.shape[1]//2):\n",
    "            cv2.rectangle(licensePlate,(x,y),(x+w,y+h),(0,255,0),1)\n",
    "            data.append([x,y,w,h])\n",
    "    return data\n",
    "    "
   ]
  },
  {
   "cell_type": "code",
   "execution_count": 8,
   "id": "d01d2eb3",
   "metadata": {},
   "outputs": [],
   "source": [
    "def image_prediction(data):\n",
    "    def comp(x):\n",
    "        return x[0]\n",
    "    categories={0: '0', 1: '1', 2: '2', 3: '3', 4: '4', 5: '5', 6: '6', 7: '7', 8: '8', 9: '9', 10: 'A', 11: 'B', 12: 'C', 13: 'D', 14: 'E', 15: 'F', 16: 'G', 17: 'H', 18: 'I', 19: 'J', 20: 'K', 21: 'L', 22: 'M', 23: 'N', 24: 'O', 25: 'P', 26: 'Q', 27: 'R', 28: 'S', 29: 'T', 30: 'U', 31: 'V', 32: 'W', 33: 'X', 34: 'Y', 35: 'Z'}\n",
    "    data=sorted(data,key=comp)\n",
    "    model = keras.models.load_model(\"alpha_model2.h5\")\n",
    "    new_img=[]\n",
    "    for x in data:\n",
    "        img=cv2.resize(roi[x[1]:x[1]+x[3],x[0]:x[0]+x[2]],(34,34))\n",
    "        img=cv2.copyMakeBorder(img.copy(),3,3,3,3,cv2.BORDER_CONSTANT,value=(0,0,0))\n",
    "        new_img.append(img)\n",
    "    for x in new_img:\n",
    "        rect,x=cv2.threshold(x,125,255,cv2.THRESH_BINARY_INV+cv2.THRESH_OTSU)\n",
    "        x=cv2.resize(x,(40,40))\n",
    "        x= cv2.morphologyEx(x, cv2.MORPH_CLOSE,None,iterations=1)\n",
    "        new_img=x.reshape(-1,40,40,1)\n",
    "        new_img=new_img/255\n",
    "        value=categories[np.argmax(model.predict(new_img))]\n",
    "        plt.imshow(x)\n",
    "        print(value)\n",
    "        plt.show()\n",
    "    "
   ]
  },
  {
   "cell_type": "code",
   "execution_count": 15,
   "id": "d50fc875",
   "metadata": {},
   "outputs": [
    {
     "name": "stdout",
     "output_type": "stream",
     "text": [
      "input image path:/home/crowwar/Desktop/index1.png\n",
      "H\n"
     ]
    },
    {
     "data": {
      "image/png": "[encoded data removed]",
      "text/plain": [
       "<Figure size 432x288 with 1 Axes>"
      ]
     },
     "metadata": {
      "needs_background": "light"
     },
     "output_type": "display_data"
    },
    {
     "name": "stdout",
     "output_type": "stream",
     "text": [
      "R\n"
     ]
    },
    {
     "data": {
      "image/png": "[encoded data removed]",
      "text/plain": [
       "<Figure size 432x288 with 1 Axes>"
      ]
     },
     "metadata": {
      "needs_background": "light"
     },
     "output_type": "display_data"
    },
    {
     "name": "stdout",
     "output_type": "stream",
     "text": [
      "Z\n"
     ]
    },
    {
     "data": {
      "image/png": "[encoded data removed]",
      "text/plain": [
       "<Figure size 432x288 with 1 Axes>"
      ]
     },
     "metadata": {
      "needs_background": "light"
     },
     "output_type": "display_data"
    },
    {
     "name": "stdout",
     "output_type": "stream",
     "text": [
      "6\n"
     ]
    },
    {
     "data": {
      "image/png": "[encoded data removed]",
      "text/plain": [
       "<Figure size 432x288 with 1 Axes>"
      ]
     },
     "metadata": {
      "needs_background": "light"
     },
     "output_type": "display_data"
    },
    {
     "name": "stdout",
     "output_type": "stream",
     "text": [
      "B\n"
     ]
    },
    {
     "data": {
      "image/png": "[encoded data removed]",
      "text/plain": [
       "<Figure size 432x288 with 1 Axes>"
      ]
     },
     "metadata": {
      "needs_background": "light"
     },
     "output_type": "display_data"
    },
    {
     "name": "stdout",
     "output_type": "stream",
     "text": [
      "W\n"
     ]
    },
    {
     "data": {
      "image/png": "[encoded data removed]",
      "text/plain": [
       "<Figure size 432x288 with 1 Axes>"
      ]
     },
     "metadata": {
      "needs_background": "light"
     },
     "output_type": "display_data"
    },
    {
     "name": "stdout",
     "output_type": "stream",
     "text": [
      "B\n"
     ]
    },
    {
     "data": {
      "image/png": "[encoded data removed]",
      "text/plain": [
       "<Figure size 432x288 with 1 Axes>"
      ]
     },
     "metadata": {
      "needs_background": "light"
     },
     "output_type": "display_data"
    },
    {
     "name": "stdout",
     "output_type": "stream",
     "text": [
      "S\n"
     ]
    },
    {
     "data": {
      "image/png": "[encoded data removed]",
      "text/plain": [
       "<Figure size 432x288 with 1 Axes>"
      ]
     },
     "metadata": {
      "needs_background": "light"
     },
     "output_type": "display_data"
    },
    {
     "name": "stdout",
     "output_type": "stream",
     "text": [
      "M\n"
     ]
    },
    {
     "data": {
      "image/png": "[encoded data removed]",
      "text/plain": [
       "<Figure size 432x288 with 1 Axes>"
      ]
     },
     "metadata": {
      "needs_background": "light"
     },
     "output_type": "display_data"
    },
    {
     "name": "stdout",
     "output_type": "stream",
     "text": [
      "X\n"
     ]
    },
    {
     "data": {
      "image/png": "[encoded data removed]",
      "text/plain": [
       "<Figure size 432x288 with 1 Axes>"
      ]
     },
     "metadata": {
      "needs_background": "light"
     },
     "output_type": "display_data"
    }
   ],
   "source": [
    "if __name__==\"__main__\":\n",
    "    image_path=input(\"input image path:\")\n",
    "    img=cv2.imread(image_path)\n",
    "    light,blackhat=structured_image(img)\n",
    "    gradX=detecting_edges(blackhat)\n",
    "    thresh=bitwise_operation(gradX)\n",
    "    licensePlate,roi=plate_detection(thresh,img)\n",
    "    data=char_contours_detection(licensePlate,roi)\n",
    "    image_prediction(data)"
   ]
  },
  {
   "cell_type": "code",
   "execution_count": null,
   "id": "e60da3f2",
   "metadata": {},
   "outputs": [],
   "source": []
  }
 ],
 "metadata": {
  "kernelspec": {
   "display_name": "Python 3",
   "language": "python",
   "name": "python3"
  },
  "language_info": {
   "codemirror_mode": {
    "name": "ipython",
    "version": 3
   },
   "file_extension": ".py",
   "mimetype": "text/x-python",
   "name": "python",
   "nbconvert_exporter": "python",
   "pygments_lexer": "ipython3",
   "version": "3.8.5"
  }
 },
 "nbformat": 4,
 "nbformat_minor": 5
}
